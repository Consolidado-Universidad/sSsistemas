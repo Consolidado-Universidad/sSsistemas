{
 "cells": [
  {
   "cell_type": "markdown",
   "metadata": {},
   "source": [
    "### Actividad 4\n",
    "Identifique la cantidad y los IP de los servidores FTP, SSH, TELNET, SMTP, \n",
    "HTTP, en la red de a la que pertenece el servidor www.empresa.es."
   ]
  },
  {
   "cell_type": "code",
   "execution_count": 4,
   "metadata": {},
   "outputs": [
    {
     "name": "stdout",
     "output_type": "stream",
     "text": [
      "Comando: nmap -sS 31.3.66.35 -oX temp\\nmap_output_sS_2024-05-11_13-34-39.xml\n",
      "Starting Nmap 7.95 ( https://nmap.org ) at 2024-05-11 13:34 Hora est. Sudamérica Pacífico\n",
      "Note: Host seems down. If it is really up, but blocking our ping probes, try -Pn\n",
      "Nmap done: 1 IP address (0 hosts up) scanned in 3.18 seconds\n",
      "\n"
     ]
    }
   ],
   "source": [
    "\n",
    "import subprocess\n",
    "import os\n",
    "from datetime import datetime\n",
    "\n",
    "# Definir las variables para el comando nmap\n",
    "scan_types = [\"-sS\"]  # Realiza un escaneo SYN Stealth\n",
    "target = \"31.3.66.35\"  # Especifica el host objetivo del escaneo\n",
    "scan_ports = \"-p 21,22,23,25,80\"\n",
    "# nslookup empresa.es => 31.3.66.35\n",
    "\n",
    "scan_services = \"-sV\"  # Habilita la detección de servicios\n",
    "\n",
    "# Crear la carpeta para almacenar los resultados si no existe\n",
    "folder_name = \"temp\"\n",
    "os.makedirs(folder_name, exist_ok=True)\n",
    "\n",
    "# Función para formatear el nombre del archivo basado en el tipo de escaneo y la fecha actual\n",
    "\n",
    "\n",
    "def get_output_filename(scan_type):\n",
    "    date_str = datetime.now().strftime(\"%Y-%m-%d_%H-%M-%S\")\n",
    "    return os.path.join(folder_name, f\"nmap_output_{scan_type.strip('-')}_{date_str}.xml\")\n",
    "\n",
    "\n",
    "# Ejecutar los escaneos y guardar cada resultado en un archivo separado\n",
    "for scan_type in scan_types:\n",
    "    output_file = get_output_filename(scan_type)\n",
    "    output_format = f\"-oX {output_file}\"\n",
    "\n",
    "    # Formatear el comando usando f-strings\n",
    "    command = f\"nmap {scan_type} {target} {output_format}\"\n",
    "\n",
    "    # Ejecutar el comando nmap\n",
    "    result = subprocess.run(\n",
    "        command, shell=True, stdout=subprocess.PIPE, stderr=subprocess.PIPE, text=True)\n",
    "\n",
    "    # Imprimir la salida y los errores\n",
    "    print(f\"Comando: {command}\")\n",
    "    print(result.stdout)\n",
    "    if result.stderr:\n",
    "        print(\"Error:\", result.stderr)"
   ]
  }
 ],
 "metadata": {
  "kernelspec": {
   "display_name": "venv",
   "language": "python",
   "name": "python3"
  },
  "language_info": {
   "codemirror_mode": {
    "name": "ipython",
    "version": 3
   },
   "file_extension": ".py",
   "mimetype": "text/x-python",
   "name": "python",
   "nbconvert_exporter": "python",
   "pygments_lexer": "ipython3",
   "version": "3.12.1"
  }
 },
 "nbformat": 4,
 "nbformat_minor": 2
}
