{
 "cells": [
  {
   "cell_type": "markdown",
   "metadata": {},
   "source": [
    "### Actividad 2\n",
    "Realizar un escaneo del tipo SYN Stealth al servidor `innova.uv.cl`, interprete y \n",
    "muestre los resultados. Identifique el sistema operativo.|"
   ]
  },
  {
   "cell_type": "code",
   "execution_count": 2,
   "metadata": {},
   "outputs": [
    {
     "name": "stdout",
     "output_type": "stream",
     "text": [
      "Salida: Starting Nmap 7.95 ( https://nmap.org ) at 2024-05-11 12:18 Hora est. Sudamérica Pacífico\n",
      "Nmap scan report for innova.uv.cl (200.14.249.16)\n",
      "Host is up (0.027s latency).\n",
      "Not shown: 993 filtered tcp ports (no-response)\n",
      "PORT     STATE  SERVICE\n",
      "22/tcp   open   ssh\n",
      "80/tcp   open   http\n",
      "113/tcp  closed ident\n",
      "443/tcp  open   https\n",
      "1433/tcp closed ms-sql-s\n",
      "3306/tcp open   mysql\n",
      "8080/tcp closed http-proxy\n",
      "Device type: general purpose|storage-misc\n",
      "Running (JUST GUESSING): FreeBSD 13.X|12.X|11.X (95%), NetApp Data ONTAP 9.X (87%)\n",
      "OS CPE: cpe:/o:freebsd:freebsd:13.1 cpe:/o:freebsd:freebsd:12 cpe:/o:freebsd:freebsd:11.0 cpe:/o:netapp:data_ontap:9.7\n",
      "Aggressive OS guesses: FreeBSD 13.1-RELEASE (95%), FreeBSD 12.1-RELEASE - 12.2-RELEASE (94%), FreeBSD 11.0-RELEASE (90%), FreeBSD 13.0-STABLE (90%), FreeBSD 11.2-STABLE (87%), NetApp Data ONTAP 9.7 (87%), FreeBSD 11.0-STABLE or 11.0-RELEASE (86%)\n",
      "No exact OS matches for host (test conditions non-ideal).\n",
      "\n",
      "OS detection performed. Please report any incorrect results at https://nmap.org/submit/ .\n",
      "Nmap done: 1 IP address (1 host up) scanned in 10.12 seconds\n",
      "\n"
     ]
    }
   ],
   "source": [
    "import subprocess\n",
    "import os\n",
    "from datetime import datetime\n",
    "\n",
    "# Definir las variables para el comando nmap\n",
    "ip_address = \"innova.uv.cl\"\n",
    "scan_types = [\"-sS\"]\n",
    "scan_os = \"-O\"\n",
    "\n",
    "# Crear la carpeta para almacenar los resultados si no existe\n",
    "folder_name = \"temp\"\n",
    "os.makedirs(folder_name, exist_ok=True)\n",
    "\n",
    "# Función para formatear el nombre del archivo basado en el tipo de escaneo y la fecha actual\n",
    "def get_output_filename(scan_type):\n",
    "    date_str = datetime.now().strftime(\"%Y-%m-%d_%H-%M-%S\")\n",
    "    return os.path.join(folder_name, f\"nmap_output_{scan_type.strip('-')}_{date_str}.xml\")\n",
    "\n",
    "# Ejecutar los escaneos y guardar cada resultado en un archivo separado\n",
    "for scan_type in scan_types:\n",
    "    output_file = get_output_filename(scan_type)\n",
    "    output_format = f\" -oX {output_file}\"\n",
    "    \n",
    "    \n",
    "    # Formatear el comando usando f-strings\n",
    "    command = f\"nmap {scan_type} {ip_address} {scan_os} {output_format}\"\n",
    "\n",
    "    # Ejecutar el comando nmap\n",
    "    result = subprocess.run(command, shell=True, stdout=subprocess.PIPE, stderr=subprocess.PIPE, text=True)\n",
    "\n",
    "    # Imprimir la salida y los errores\n",
    "    print(\"Salida:\", result.stdout)\n",
    "    if result.stderr:\n",
    "        print(\"Error:\", result.stderr)"
   ]
  }
 ],
 "metadata": {
  "kernelspec": {
   "display_name": "venv",
   "language": "python",
   "name": "python3"
  },
  "language_info": {
   "codemirror_mode": {
    "name": "ipython",
    "version": 3
   },
   "file_extension": ".py",
   "mimetype": "text/x-python",
   "name": "python",
   "nbconvert_exporter": "python",
   "pygments_lexer": "ipython3",
   "version": "3.12.1"
  }
 },
 "nbformat": 4,
 "nbformat_minor": 2
}
