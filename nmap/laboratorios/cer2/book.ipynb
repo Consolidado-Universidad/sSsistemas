{
 "cells": [
  {
   "cell_type": "markdown",
   "metadata": {},
   "source": []
  },
  {
   "cell_type": "code",
   "execution_count": null,
   "metadata": {},
   "outputs": [],
   "source": [
    "import subprocess"
   ]
  },
  {
   "cell_type": "markdown",
   "metadata": {},
   "source": [
    "### Actividad 1\n",
    "Realizar un análisis de vulnerabilidades en el servidor `itmon-uni.uv.cl` para los puertos 22, 80, 443, 53, 135, 137, 139. Interpreta los resultados, sugiere mejoras de ciberseguridad e incluye propuestas de reglas de firewall. Finalmente, propón cuatro medidas de mitigación para reducir riesgos."
   ]
  },
  {
   "cell_type": "code",
   "execution_count": 19,
   "metadata": {},
   "outputs": [
    {
     "name": "stdout",
     "output_type": "stream",
     "text": [
      "Salida: Starting Nmap 7.95 ( https://nmap.org ) at 2024-05-06 19:45 Hora est. Sudamérica Pacífico\n",
      "Nmap scan report for 192.168.0.1\n",
      "Host is up (0.013s latency).\n",
      "Not shown: 995 closed tcp ports (reset)\n",
      "PORT     STATE    SERVICE         VERSION\n",
      "80/tcp   open     http            lighttpd\n",
      "443/tcp  open     ssl/http        lighttpd\n",
      "5000/tcp open     upnp            MiniUPnP 1.9 (RHEL 6.10; UPnP 1.1)\n",
      "8081/tcp filtered blackice-icecap\n",
      "8082/tcp filtered blackice-alerts\n",
      "MAC Address: 80:E5:40:20:DB:90 (Arris Group)\n",
      "Device type: general purpose\n",
      "Running: Linux 2.6.X\n",
      "OS CPE: cpe:/o:linux:linux_kernel:2.6.39\n",
      "OS details: Linux 2.6.39\n",
      "Network Distance: 1 hop\n",
      "Service Info: OS: Linux; CPE: cpe:/o:redhat:enterprise_linux:6.10\n",
      "\n",
      "OS and Service detection performed. Please report any incorrect results at https://nmap.org/submit/ .\n",
      "Nmap done: 1 IP address (1 host up) scanned in 20.85 seconds\n",
      "\n"
     ]
    }
   ],
   "source": [
    "import subprocess\n",
    "\n",
    "# Variables para el comando nmap\n",
    "ip_address = \"192.168.0.1\"\n",
    "# scan_type = \"-sS\" # -sS para detectar los puertos abiertos\n",
    "# scan_type = \"-sA\" # -sA para detectar los puertos filtrados (es decir puertos cerrados con un firewall)\n",
    "# scan_type = \"-sX\" # -sU ataque de XMAS scan (engañar al firewall, para obtener datos de los puertos cerrados) \n",
    "scan_service = \"-sV\" # -sV para detectar los servicios\n",
    "scan_os = \"-O\" # -O para detectar el sistema operativo\n",
    "output_format = \"-oN tmp/nmap_output.txt --append-output\"\n",
    "\n",
    "# Formatear el comando usando f-strings\n",
    "command = f\"nmap {scan_type} {ip_address} {scan_service} {scan_os} {output_format}\"\n",
    "\n",
    "# Ejecutar el comando nmap\n",
    "result = subprocess.run(command, shell=True, stdout=subprocess.PIPE, stderr=subprocess.PIPE, text=True)\n",
    "\n",
    "# Imprimir la salida y los errores\n",
    "print(\"Salida:\", result.stdout)\n",
    "if result.stderr:\n",
    "    print(\"Error:\", result.stderr)"
   ]
  }
 ],
 "metadata": {
  "kernelspec": {
   "display_name": "venv",
   "language": "python",
   "name": "python3"
  },
  "language_info": {
   "codemirror_mode": {
    "name": "ipython",
    "version": 3
   },
   "file_extension": ".py",
   "mimetype": "text/x-python",
   "name": "python",
   "nbconvert_exporter": "python",
   "pygments_lexer": "ipython3",
   "version": "3.12.1"
  }
 },
 "nbformat": 4,
 "nbformat_minor": 2
}
