{
 "cells": [
  {
   "cell_type": "code",
   "execution_count": null,
   "metadata": {},
   "outputs": [],
   "source": [
    "import subprocess"
   ]
  },
  {
   "cell_type": "markdown",
   "metadata": {},
   "source": [
    "### Actividad 1\n",
    "Realizar un análisis de vulnerabilidades en el servidor `itmon-uni.uv.cl` para los puertos 22, 80, 443, 53, 135, 137, 139. Interpreta los resultados, sugiere mejoras de ciberseguridad e incluye propuestas de reglas de firewall. Finalmente, propón cuatro medidas de mitigación para reducir riesgos."
   ]
  },
  {
   "cell_type": "code",
   "execution_count": 1,
   "metadata": {},
   "outputs": [
    {
     "name": "stdout",
     "output_type": "stream",
     "text": [
      "Salida: Starting Nmap 7.95 ( https://nmap.org ) at 2024-05-07 14:31 Hora est. Sudamérica Pacífico\n",
      "Nmap scan report for 192.168.0.1\n",
      "Host is up (0.0042s latency).\n",
      "Not shown: 998 closed tcp ports (reset)\n",
      "PORT    STATE SERVICE  VERSION\n",
      "80/tcp  open  http     lighttpd\n",
      "443/tcp open  ssl/http lighttpd\n",
      "MAC Address: 80:E5:40:20:DB:90 (Arris Group)\n",
      "Device type: webcam\n",
      "Running: Ubiquiti embedded, Linux 2.6.X\n",
      "OS CPE: cpe:/o:linux:linux_kernel:2.6.38\n",
      "OS details: Ubiquiti webcam (Linux 2.6.38)\n",
      "Network Distance: 1 hop\n",
      "\n",
      "OS and Service detection performed. Please report any incorrect results at https://nmap.org/submit/ .\n",
      "Nmap done: 1 IP address (1 host up) scanned in 20.46 seconds\n",
      "\n",
      "Salida: Starting Nmap 7.95 ( https://nmap.org ) at 2024-05-07 14:31 Hora est. Sudamérica Pacífico\n",
      "Nmap scan report for 192.168.0.1\n",
      "Host is up (0.0072s latency).\n",
      "All 1000 scanned ports on 192.168.0.1 are in ignored states.\n",
      "Not shown: 1000 unfiltered tcp ports (reset)\n",
      "MAC Address: 80:E5:40:20:DB:90 (Arris Group)\n",
      "Too many fingerprints match this host to give specific OS details\n",
      "Network Distance: 1 hop\n",
      "\n",
      "OS and Service detection performed. Please report any incorrect results at https://nmap.org/submit/ .\n",
      "Nmap done: 1 IP address (1 host up) scanned in 58.09 seconds\n",
      "\n",
      "Salida: Starting Nmap 7.95 ( https://nmap.org ) at 2024-05-07 14:32 Hora est. Sudamérica Pacífico\n",
      "Nmap scan report for 192.168.0.1\n",
      "Host is up (0.0032s latency).\n",
      "Not shown: 998 closed tcp ports (reset)\n",
      "PORT    STATE SERVICE  VERSION\n",
      "80/tcp  open  http     lighttpd\n",
      "443/tcp open  ssl/http lighttpd\n",
      "MAC Address: 80:E5:40:20:DB:90 (Arris Group)\n",
      "Device type: webcam\n",
      "Running: Ubiquiti embedded, Linux 2.6.X\n",
      "OS CPE: cpe:/o:linux:linux_kernel:2.6.38\n",
      "OS details: Ubiquiti webcam (Linux 2.6.38)\n",
      "Network Distance: 1 hop\n",
      "\n",
      "OS and Service detection performed. Please report any incorrect results at https://nmap.org/submit/ .\n",
      "Nmap done: 1 IP address (1 host up) scanned in 22.96 seconds\n",
      "\n",
      "Salida: Starting Nmap 7.95 ( https://nmap.org ) at 2024-05-07 14:32 Hora est. Sudamérica Pacífico\n",
      "Nmap scan report for 192.168.0.1\n",
      "Host is up (0.0044s latency).\n",
      "Not shown: 998 closed tcp ports (reset)\n",
      "PORT    STATE SERVICE  VERSION\n",
      "80/tcp  open  http     lighttpd\n",
      "443/tcp open  ssl/http lighttpd\n",
      "MAC Address: 80:E5:40:20:DB:90 (Arris Group)\n",
      "Device type: webcam\n",
      "Running: Ubiquiti embedded, Linux 2.6.X\n",
      "OS CPE: cpe:/o:linux:linux_kernel:2.6.38\n",
      "OS details: Ubiquiti webcam (Linux 2.6.38)\n",
      "Network Distance: 1 hop\n",
      "\n",
      "OS and Service detection performed. Please report any incorrect results at https://nmap.org/submit/ .\n",
      "Nmap done: 1 IP address (1 host up) scanned in 20.46 seconds\n",
      "\n"
     ]
    }
   ],
   "source": [
    "import subprocess\n",
    "\n",
    "# Definir las variables para el comando nmap\n",
    "ip_address = \"192.168.0.1\" # IP de la máquina a escanear\n",
    "scan_types = [\"-sS\", \"-sA\", \"-sX\", \"-Pn\"]\n",
    "# -sS para detectar los puertos abiertos\n",
    "# -sA para detectar los puertos filtrados (es decir puertos cerrados con un firewall)\n",
    "# -sX ataque de XMAS scan (engañar al firewall, para obtener datos de los puertos cerrados) \n",
    "# -Pn para realizar escaneos sin ping (donde se tiene un firewall que bloquea los pings)\n",
    "scan_service = \"-sV\" # -sV para detectar los servicios\n",
    "scan_os = \"-O\" # -O para detectar el sistema operativo\n",
    "port_range = \"-p 1-1000\" # -p para especificar el rango de puertos a escanear\n",
    "output_format = \"-oN tmp/nmap_output.txt --append-output\" # -oN para guardar la salida en un archivo\n",
    "\n",
    "for scan_type in scan_types:\n",
    "    \n",
    "    # Formatear el comando usando f-strings\n",
    "    command = f\"nmap {scan_type} {ip_address} {scan_service} {scan_os} {output_format} {port_range}\"\n",
    "\n",
    "    # Ejecutar el comando nmap\n",
    "    result = subprocess.run(command, shell=True, stdout=subprocess.PIPE, stderr=subprocess.PIPE, text=True)\n",
    "\n",
    "    # Imprimir la salida y los errores\n",
    "    print(\"Salida:\", result.stdout)\n",
    "    if result.stderr:\n",
    "        print(\"Error:\", result.stderr)"
   ]
  }
 ],
 "metadata": {
  "kernelspec": {
   "display_name": "venv",
   "language": "python",
   "name": "python3"
  },
  "language_info": {
   "codemirror_mode": {
    "name": "ipython",
    "version": 3
   },
   "file_extension": ".py",
   "mimetype": "text/x-python",
   "name": "python",
   "nbconvert_exporter": "python",
   "pygments_lexer": "ipython3",
   "version": "3.12.1"
  }
 },
 "nbformat": 4,
 "nbformat_minor": 2
}
